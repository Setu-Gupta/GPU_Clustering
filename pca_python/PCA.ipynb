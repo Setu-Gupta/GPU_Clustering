{
  "nbformat": 4,
  "nbformat_minor": 0,
  "metadata": {
    "colab": {
      "name": "PCA",
      "provenance": [],
      "collapsed_sections": []
    },
    "kernelspec": {
      "name": "python3",
      "display_name": "Python 3"
    },
    "language_info": {
      "name": "python"
    }
  },
  "cells": [
    {
      "cell_type": "code",
      "metadata": {
        "id": "RqI4bDrCg4Pl"
      },
      "source": [
        "%matplotlib inline\n",
        "from matplotlib import pyplot as plt\n",
        "from sklearn import datasets as ds\n",
        "import numpy as np\n",
        "from sklearn.preprocessing import StandardScaler\n",
        "from sklearn import decomposition"
      ],
      "execution_count": 17,
      "outputs": []
    },
    {
      "cell_type": "code",
      "metadata": {
        "id": "OpVBymmEhMrW"
      },
      "source": [
        "CENTERS = 20\n",
        "DIM = 100\n",
        "points = ds.make_blobs(1000, DIM, CENTERS)"
      ],
      "execution_count": 18,
      "outputs": []
    },
    {
      "cell_type": "code",
      "metadata": {
        "id": "CswheelAhVrR"
      },
      "source": [
        "# cluster_points = [[[], []] for x in range(CENTERS)]\n",
        "# for p, l in zip(points[0], points[1]):\n",
        "#     cluster_points[l][0].append(p[0])\n",
        "#     cluster_points[l][1].append(p[1])\n",
        "# cluster_points = np.array(cluster_points)\n",
        "# for c in cluster_points:\n",
        "#     plt.scatter(c[0], c[1])"
      ],
      "execution_count": 3,
      "outputs": []
    },
    {
      "cell_type": "code",
      "metadata": {
        "colab": {
          "base_uri": "https://localhost:8080/",
          "height": 265
        },
        "id": "4kXT75DMib8D",
        "outputId": "9dfa7fe4-05b4-4b72-fe06-5b78fd6874f5"
      },
      "source": [
        "pca = decomposition.PCA(n_components=2)\n",
        "x = points[0]\n",
        "x_std = StandardScaler().fit_transform(x)\n",
        "skl_pca = pca.fit_transform(x_std)\n",
        "cluster_points = [[[], []] for x in range(CENTERS)]\n",
        "for p, l in zip(skl_pca, points[1]):\n",
        "    cluster_points[l][0].append(p[0])\n",
        "    cluster_points[l][1].append(p[1])\n",
        "cluster_points = np.array(cluster_points)\n",
        "for c in cluster_points:\n",
        "    plt.scatter(c[0], c[1])"
      ],
      "execution_count": 19,
      "outputs": [
        {
          "output_type": "display_data",
          "data": {
            "image/png": "[encoded data removed]",
            "text/plain": [
              "<Figure size 432x288 with 1 Axes>"
            ]
          },
          "metadata": {
            "tags": [],
            "needs_background": "light"
          }
        }
      ]
    },
    {
      "cell_type": "code",
      "metadata": {
        "id": "BAUiJxhNv6vZ"
      },
      "source": [
        "# NIPALs\n",
        "def norm(X):\n",
        "    # return (np.sum(X**10))**(0.1)\n",
        "    return np.linalg.norm(X)\n",
        "\n",
        "\n",
        "X = points[0]\n",
        "X = StandardScaler().fit_transform(X)\n",
        "e = 1e-5\n",
        "R = np.zeros_like(X)\n",
        "T = np.zeros_like(R)\n",
        "K = X.shape[1]\n",
        "J = 10000\n",
        "P = np.zeros((K, K))\n",
        "R = X\n",
        "for k in range(2):\n",
        "    lamda = 0\n",
        "    T[:, k] = R[:, k]\n",
        "    for j in range(J):\n",
        "        P[:, k] = np.dot(R.T, T[:, k])\n",
        "        P[:, k] = P[:, k]/norm(P[:, k])\n",
        "        T[:, k] = np.dot(R, P[:, k])\n",
        "        lamda_dash = norm(T[:, k])\n",
        "        if(np.abs(lamda_dash-lamda) <= e):\n",
        "            break\n",
        "        lamda = lamda_dash\n",
        "    R = R-np.dot(T[:, k][np.newaxis].T, P[:, k][np.newaxis])"
      ],
      "execution_count": 20,
      "outputs": []
    },
    {
      "cell_type": "code",
      "metadata": {
        "colab": {
          "base_uri": "https://localhost:8080/",
          "height": 265
        },
        "id": "_K996rnT6sdV",
        "outputId": "4d78be62-de4a-4303-df12-f5ad73b387a5"
      },
      "source": [
        "cluster_points = [[[], []] for x in range(CENTERS)]\n",
        "for p, l in zip(T[..., :2], points[1]):\n",
        "    cluster_points[l][0].append(p[0])\n",
        "    cluster_points[l][1].append(p[1])\n",
        "cluster_points = np.array(cluster_points)\n",
        "for c in cluster_points:\n",
        "    plt.scatter(c[0], c[1])"
      ],
      "execution_count": 21,
      "outputs": [
        {
          "output_type": "display_data",
          "data": {
            "image/png": "[encoded data removed]",
            "text/plain": [
              "<Figure size 432x288 with 1 Axes>"
            ]
          },
          "metadata": {
            "tags": [],
            "needs_background": "light"
          }
        }
      ]
    }
  ]
}